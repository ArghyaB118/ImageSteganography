{
 "cells": [
  {
   "cell_type": "code",
   "execution_count": 110,
   "id": "9f628545",
   "metadata": {},
   "outputs": [],
   "source": [
    "from PIL import Image\n",
    "import numpy as np\n",
    "\n",
    "verbose = False"
   ]
  },
  {
   "cell_type": "code",
   "execution_count": 112,
   "id": "73a7e7e4",
   "metadata": {},
   "outputs": [],
   "source": [
    "def dissimilarity(i, j, image):\n",
    "    pixels = image.load()\n",
    "    sim_r, sim_g, sim_b = 0, 0, 0\n",
    "    sim_r = pixels[i, j][0] + pixels[i+1, j][0] + pixels[i+2, j][0]\n",
    "    sim_r += pixels[i, j+1][0] + pixels[i+1, j+1][0] + pixels[i+2, j+1][0]\n",
    "    sim_r += pixels[i, j+2][0] + pixels[i+1, j+2][0] + pixels[i+2, j+2][0]\n",
    "    sim_g = pixels[i, j][1] + pixels[i+1, j][1] + pixels[i+2, j][1]\n",
    "    sim_g += pixels[i, j+1][1] + pixels[i+1, j+1][1] + pixels[i+2, j+1][1]\n",
    "    sim_g += pixels[i, j+2][1] + pixels[i+1, j+2][1] + pixels[i+2, j+2][1]\n",
    "    sim_b = pixels[i, j][2] + pixels[i+1, j][2] + pixels[i+2, j][2]\n",
    "    sim_b += pixels[i, j+1][2] + pixels[i+1, j+1][2] + pixels[i+2, j+1][2]\n",
    "    sim_b += pixels[i, j+2][2] + pixels[i+1, j+2][2] + pixels[i+2, j+2][2]\n",
    "    sim_r /= 9\n",
    "    sim_g /= 9\n",
    "    sim_b /= 9\n",
    "    for k in range(3):\n",
    "        for l in range(3):\n",
    "            sim_rr = abs(pixels[i+k,j+l][0] - sim_r)\n",
    "            sim_gg = abs(pixels[i+k,j+l][1] - sim_g)\n",
    "            sim_bb = abs(pixels[i+k,j+l][2] - sim_b)\n",
    "    sim = sim_rr + sim_gg + sim_bb\n",
    "    return sim_rr, sim_gg, sim_bb, sim\n",
    "\n"
   ]
  },
  {
   "cell_type": "code",
   "execution_count": 88,
   "id": "451410b7",
   "metadata": {},
   "outputs": [
    {
     "name": "stdout",
     "output_type": "stream",
     "text": [
      "binary message, third bit from left  010000010100001000101110 0\n"
     ]
    }
   ],
   "source": [
    "def messageToBinary(message):\n",
    "    if type(message) == str:\n",
    "        return ''.join([ format(ord(i), \"08b\") for i in message ])\n",
    "    elif type(message) == bytes or type(message) == np.ndarray:\n",
    "        return [ format(i, \"08b\") for i in message ]\n",
    "    elif type(message) == int or type(message) == np.uint8:\n",
    "        return format(message, \"08b\")\n",
    "    else:\n",
    "        raise TypeError(\"Input type not supported\")\n",
    "\n",
    "\n",
    "print(\"binary message, third bit from left \", messageToBinary(\"AB.\"), messageToBinary(\"AB.\")[3])\n",
    "\n"
   ]
  },
  {
   "cell_type": "code",
   "execution_count": 103,
   "id": "d7fe81cb",
   "metadata": {},
   "outputs": [],
   "source": [
    "def bin2int(str):\n",
    "    tmp = 0\n",
    "    for i in range(8):\n",
    "        tmp += int(str[i]) * 2**(7-i)\n",
    "    return tmp"
   ]
  },
  {
   "cell_type": "code",
   "execution_count": 130,
   "id": "4f331b96",
   "metadata": {},
   "outputs": [
    {
     "name": "stdout",
     "output_type": "stream",
     "text": [
      "binary message: 0100000101101110011101010111001101101000011010110110000100100000011010010111001100100000011100110111011101100101011001010111010000101110\n",
      "image size: 1280 720\n",
      "message is parsed\n"
     ]
    }
   ],
   "source": [
    "def parseMessage(image, message, threshold):\n",
    "    msg = messageToBinary(message)\n",
    "    print(\"binary message:\", msg)\n",
    "    pixels = image.load()\n",
    "    index = 0\n",
    "    [x , y] = image.size; print(\"image size:\", x, y)\n",
    "    #image = image.resize((300,300)) \n",
    "    for i in range(0,x-2,3):\n",
    "        for j in range(0,y-2,3):\n",
    "            sim_r, sim_g, sim_b, dissimilarity_measure = dissimilarity(i, j, image)\n",
    "            if (dissimilarity_measure > threshold):\n",
    "                tmp0 = messageToBinary(pixels[i+1,j+1][0])[:7] + msg[index]; tmp0 = bin2int(tmp0)\n",
    "                tmp1 = messageToBinary(pixels[i+1,j+1][1])[:7] + msg[index]; tmp1 = bin2int(tmp1)\n",
    "                tmp2 = messageToBinary(pixels[i+1,j+1][2])[:7] + msg[index]; tmp2 = bin2int(tmp2)\n",
    "                image.putpixel((i+1,j+1), (tmp0, tmp1, tmp2))\n",
    "                if verbose:\n",
    "                    print(tmp0, tmp1, tmp2)\n",
    "                sim_r, sim_g, sim_b, modified_dissimilarity_measure = dissimilarity(i, j, image)\n",
    "                index = index + 1\n",
    "                if verbose:\n",
    "                    print(index, i, j, dissimilarity_measure, modified_dissimilarity_measure)\n",
    "                if (index == len(msg)):\n",
    "                    print(\"message is parsed\")\n",
    "                    return image\n",
    "    print(\"the whole message could not be parsed\")\n",
    "    return image\n",
    "\n",
    "\n",
    "inputImage = Image.open(r\"background_zoom.png\")\n",
    "message = (\"Anushka is sweet.\")\n",
    "threshold = 200\n",
    "inputImage = parseMessage(inputImage, message, threshold)\n",
    "inputImage.save(\"test.png\")"
   ]
  },
  {
   "cell_type": "code",
   "execution_count": 81,
   "id": "e768a497",
   "metadata": {},
   "outputs": [
    {
     "name": "stdout",
     "output_type": "stream",
     "text": [
      "11111110\n"
     ]
    }
   ],
   "source": [
    "p = inputImage.load()\n",
    "print(messageToBinary(p[469,34][0]))"
   ]
  },
  {
   "cell_type": "code",
   "execution_count": 131,
   "id": "44d80711",
   "metadata": {},
   "outputs": [
    {
     "name": "stdout",
     "output_type": "stream",
     "text": [
      "The hidden message is: Anushka is sweet.\n"
     ]
    }
   ],
   "source": [
    "def decodeMessage(image, threshold):\n",
    "    pixels = image.load()\n",
    "    #pixels2 = image2.load()\n",
    "    message = ''\n",
    "    msg = ''\n",
    "    for i in range(0,x-2,3):\n",
    "        for j in range(0,y-2,3):\n",
    "            sim_r, sim_g, sim_b, dissimilarity_measure = dissimilarity(i, j, image)\n",
    "            if (dissimilarity_measure > threshold):\n",
    "                tmp = messageToBinary(pixels[i+1,j+1][0])\n",
    "                message = message + tmp[7]\n",
    "                #print(i, j, dissimilarity_measure, tmp)\n",
    "    if verbose:\n",
    "        print(message)\n",
    "    for i in range(int(len(message) / 8)):\n",
    "        #message1 = message[8*i:8*i+8]; print(message1)\n",
    "        #tmp = 0\n",
    "        #for j in range(8):\n",
    "        #    tmp += int(message1[j]) * 2**(7-j)\n",
    "        tmp = bin2int(message[8*i:8*i+8])\n",
    "        msg = msg + chr(tmp)\n",
    "    return msg.split('.')[0] + '.'\n",
    "\n",
    "\n",
    "print(\"The hidden message is:\", decodeMessage(inputImage, threshold))"
   ]
  },
  {
   "cell_type": "code",
   "execution_count": 132,
   "id": "d0d4f6bb",
   "metadata": {},
   "outputs": [],
   "source": [
    "inputImage.show()"
   ]
  },
  {
   "cell_type": "markdown",
   "id": "8418e9d4",
   "metadata": {},
   "source": [
    "# Image Steganography\n",
    "### Steganipraghic attacks are common on systems, networks, and communities\n",
    "You have an image or any other media, which seems naive and not at all malicious.\n",
    "However, some other recipient extracted a hidden message from the seemingly innocuous media."
   ]
  }
 ],
 "metadata": {
  "kernelspec": {
   "display_name": "Python 3",
   "language": "python",
   "name": "python3"
  },
  "language_info": {
   "codemirror_mode": {
    "name": "ipython",
    "version": 3
   },
   "file_extension": ".py",
   "mimetype": "text/x-python",
   "name": "python",
   "nbconvert_exporter": "python",
   "pygments_lexer": "ipython3",
   "version": "3.9.6"
  }
 },
 "nbformat": 4,
 "nbformat_minor": 5
}
